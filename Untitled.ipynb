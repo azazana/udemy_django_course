{
 "cells": [
  {
   "cell_type": "code",
   "execution_count": 102,
   "id": "b0594e19",
   "metadata": {},
   "outputs": [],
   "source": [
    "items = [10,19,4,1,2,9,3,4,5,6]"
   ]
  },
  {
   "cell_type": "code",
   "execution_count": 72,
   "id": "c192a162",
   "metadata": {},
   "outputs": [],
   "source": [
    "\n",
    "i = None"
   ]
  },
  {
   "cell_type": "code",
   "execution_count": 89,
   "id": "ee0941b9",
   "metadata": {},
   "outputs": [],
   "source": [
    "def maximum(items: list):\n",
    "    if len(items)==1:\n",
    "        return items[0]\n",
    "    else:\n",
    "        if items[0]>items[1]:\n",
    "            items[1]=items[0]\n",
    "        return maximum(items[1:])"
   ]
  },
  {
   "cell_type": "code",
   "execution_count": 30,
   "id": "42bbb838",
   "metadata": {},
   "outputs": [
    {
     "data": {
      "text/plain": [
       "[1, 2, 3, 4, 5]"
      ]
     },
     "execution_count": 30,
     "metadata": {},
     "output_type": "execute_result"
    }
   ],
   "source": [
    "items[:-1]"
   ]
  },
  {
   "cell_type": "code",
   "execution_count": 32,
   "id": "11982939",
   "metadata": {},
   "outputs": [
    {
     "data": {
      "text/plain": [
       "6"
      ]
     },
     "execution_count": 32,
     "metadata": {},
     "output_type": "execute_result"
    }
   ],
   "source": [
    "items.pop()"
   ]
  },
  {
   "cell_type": "code",
   "execution_count": 63,
   "id": "79f2ae3d",
   "metadata": {},
   "outputs": [],
   "source": [
    "def sum(item: list):\n",
    "    if len(item) == 0:\n",
    "        return 0\n",
    "    else:\n",
    "        return item[0] + sum(item[1:])"
   ]
  },
  {
   "cell_type": "code",
   "execution_count": 12,
   "id": "43307303",
   "metadata": {},
   "outputs": [
    {
     "data": {
      "text/plain": [
       "0"
      ]
     },
     "execution_count": 12,
     "metadata": {},
     "output_type": "execute_result"
    }
   ],
   "source": [
    "len([])"
   ]
  },
  {
   "cell_type": "code",
   "execution_count": 69,
   "id": "61172044",
   "metadata": {},
   "outputs": [
    {
     "data": {
      "text/plain": [
       "21"
      ]
     },
     "execution_count": 69,
     "metadata": {},
     "output_type": "execute_result"
    }
   ],
   "source": [
    "sum(items)"
   ]
  },
  {
   "cell_type": "code",
   "execution_count": 92,
   "id": "34688f83",
   "metadata": {},
   "outputs": [
    {
     "data": {
      "text/plain": [
       "9"
      ]
     },
     "execution_count": 92,
     "metadata": {},
     "output_type": "execute_result"
    }
   ],
   "source": [
    "maximum(items)"
   ]
  },
  {
   "cell_type": "code",
   "execution_count": 99,
   "id": "7ca60d2f",
   "metadata": {},
   "outputs": [],
   "source": [
    "def quicksort(items):\n",
    "    if len(items) <= 1:\n",
    "        return items\n",
    "    else:\n",
    "        opr = items[0]\n",
    "        less = [i for i in items[1:] if i<opr]\n",
    "        more = [i for i in items[1:] if i>opr]\n",
    "        return (quicksort(less)+[opr]+quicksort(more))"
   ]
  },
  {
   "cell_type": "code",
   "execution_count": 103,
   "id": "c5d8b54c",
   "metadata": {},
   "outputs": [
    {
     "data": {
      "text/plain": [
       "[1, 2, 3, 4, 5, 6, 9, 10, 19]"
      ]
     },
     "execution_count": 103,
     "metadata": {},
     "output_type": "execute_result"
    }
   ],
   "source": [
    "quicksort(items)"
   ]
  },
  {
   "cell_type": "code",
   "execution_count": null,
   "id": "e294777a",
   "metadata": {},
   "outputs": [],
   "source": []
  },
  {
   "cell_type": "code",
   "execution_count": 40,
   "id": "47902d42",
   "metadata": {},
   "outputs": [
    {
     "data": {
      "text/plain": [
       "[1]"
      ]
     },
     "execution_count": 40,
     "metadata": {},
     "output_type": "execute_result"
    }
   ],
   "source": [
    "items"
   ]
  },
  {
   "cell_type": "code",
   "execution_count": 70,
   "id": "506dd00a",
   "metadata": {},
   "outputs": [],
   "source": [
    "\n",
    "\n",
    "def count(item: list):\n",
    "    if item == []:\n",
    "        return 0\n",
    "    else:\n",
    "        return 1 + count(item[:-1])\n"
   ]
  },
  {
   "cell_type": "code",
   "execution_count": null,
   "id": "b15e1060",
   "metadata": {},
   "outputs": [],
   "source": []
  },
  {
   "cell_type": "code",
   "execution_count": 71,
   "id": "7d1a48e8",
   "metadata": {},
   "outputs": [
    {
     "data": {
      "text/plain": [
       "6"
      ]
     },
     "execution_count": 71,
     "metadata": {},
     "output_type": "execute_result"
    }
   ],
   "source": [
    "count (items)"
   ]
  },
  {
   "cell_type": "code",
   "execution_count": null,
   "id": "39d828c4",
   "metadata": {},
   "outputs": [],
   "source": []
  }
 ],
 "metadata": {
  "kernelspec": {
   "display_name": "Python 3 (ipykernel)",
   "language": "python",
   "name": "python3"
  },
  "language_info": {
   "codemirror_mode": {
    "name": "ipython",
    "version": 3
   },
   "file_extension": ".py",
   "mimetype": "text/x-python",
   "name": "python",
   "nbconvert_exporter": "python",
   "pygments_lexer": "ipython3",
   "version": "3.10.2"
  }
 },
 "nbformat": 4,
 "nbformat_minor": 5
}
